{
  "nbformat": 4,
  "nbformat_minor": 0,
  "metadata": {
    "colab": {
      "provenance": [],
      "include_colab_link": true
    },
    "kernelspec": {
      "name": "python3",
      "display_name": "Python 3"
    },
    "language_info": {
      "name": "python"
    },
    "accelerator": "GPU",
    "widgets": {
      "application/vnd.jupyter.widget-state+json": {
        "c8cf6fb1b8d2496a8c16c6e0569285d9": {
          "model_module": "@jupyter-widgets/controls",
          "model_name": "HBoxModel",
          "model_module_version": "1.5.0",
          "state": {
            "_dom_classes": [],
            "_model_module": "@jupyter-widgets/controls",
            "_model_module_version": "1.5.0",
            "_model_name": "HBoxModel",
            "_view_count": null,
            "_view_module": "@jupyter-widgets/controls",
            "_view_module_version": "1.5.0",
            "_view_name": "HBoxView",
            "box_style": "",
            "children": [
              "IPY_MODEL_13de27043eb04f499614ae5ea9b61c12",
              "IPY_MODEL_8e8e560b0c694dc39fc9319c72e3bdd6",
              "IPY_MODEL_3e88946413d6495394fa88b492dd206a"
            ],
            "layout": "IPY_MODEL_a43dd2850aef4b038f6ef845b0336024"
          }
        },
        "13de27043eb04f499614ae5ea9b61c12": {
          "model_module": "@jupyter-widgets/controls",
          "model_name": "HTMLModel",
          "model_module_version": "1.5.0",
          "state": {
            "_dom_classes": [],
            "_model_module": "@jupyter-widgets/controls",
            "_model_module_version": "1.5.0",
            "_model_name": "HTMLModel",
            "_view_count": null,
            "_view_module": "@jupyter-widgets/controls",
            "_view_module_version": "1.5.0",
            "_view_name": "HTMLView",
            "description": "",
            "description_tooltip": null,
            "layout": "IPY_MODEL_78bddb985517467a8abda73d0ae816c1",
            "placeholder": "​",
            "style": "IPY_MODEL_76f66c7c5f7e479b9f565d3f425c2b89",
            "value": "100%"
          }
        },
        "8e8e560b0c694dc39fc9319c72e3bdd6": {
          "model_module": "@jupyter-widgets/controls",
          "model_name": "FloatProgressModel",
          "model_module_version": "1.5.0",
          "state": {
            "_dom_classes": [],
            "_model_module": "@jupyter-widgets/controls",
            "_model_module_version": "1.5.0",
            "_model_name": "FloatProgressModel",
            "_view_count": null,
            "_view_module": "@jupyter-widgets/controls",
            "_view_module_version": "1.5.0",
            "_view_name": "ProgressView",
            "bar_style": "success",
            "description": "",
            "description_tooltip": null,
            "layout": "IPY_MODEL_d37315127b2c4166ac2a4e22ebf16b87",
            "max": 170498071,
            "min": 0,
            "orientation": "horizontal",
            "style": "IPY_MODEL_1ba186a8fa624a9782c932c2223cfbca",
            "value": 170498071
          }
        },
        "3e88946413d6495394fa88b492dd206a": {
          "model_module": "@jupyter-widgets/controls",
          "model_name": "HTMLModel",
          "model_module_version": "1.5.0",
          "state": {
            "_dom_classes": [],
            "_model_module": "@jupyter-widgets/controls",
            "_model_module_version": "1.5.0",
            "_model_name": "HTMLModel",
            "_view_count": null,
            "_view_module": "@jupyter-widgets/controls",
            "_view_module_version": "1.5.0",
            "_view_name": "HTMLView",
            "description": "",
            "description_tooltip": null,
            "layout": "IPY_MODEL_db3b9d9877f94b6b951aa446a8ecbb63",
            "placeholder": "​",
            "style": "IPY_MODEL_00d21624bb384947837f17acd4dc4c42",
            "value": " 170498071/170498071 [00:13&lt;00:00, 14074329.11it/s]"
          }
        },
        "a43dd2850aef4b038f6ef845b0336024": {
          "model_module": "@jupyter-widgets/base",
          "model_name": "LayoutModel",
          "model_module_version": "1.2.0",
          "state": {
            "_model_module": "@jupyter-widgets/base",
            "_model_module_version": "1.2.0",
            "_model_name": "LayoutModel",
            "_view_count": null,
            "_view_module": "@jupyter-widgets/base",
            "_view_module_version": "1.2.0",
            "_view_name": "LayoutView",
            "align_content": null,
            "align_items": null,
            "align_self": null,
            "border": null,
            "bottom": null,
            "display": null,
            "flex": null,
            "flex_flow": null,
            "grid_area": null,
            "grid_auto_columns": null,
            "grid_auto_flow": null,
            "grid_auto_rows": null,
            "grid_column": null,
            "grid_gap": null,
            "grid_row": null,
            "grid_template_areas": null,
            "grid_template_columns": null,
            "grid_template_rows": null,
            "height": null,
            "justify_content": null,
            "justify_items": null,
            "left": null,
            "margin": null,
            "max_height": null,
            "max_width": null,
            "min_height": null,
            "min_width": null,
            "object_fit": null,
            "object_position": null,
            "order": null,
            "overflow": null,
            "overflow_x": null,
            "overflow_y": null,
            "padding": null,
            "right": null,
            "top": null,
            "visibility": null,
            "width": null
          }
        },
        "78bddb985517467a8abda73d0ae816c1": {
          "model_module": "@jupyter-widgets/base",
          "model_name": "LayoutModel",
          "model_module_version": "1.2.0",
          "state": {
            "_model_module": "@jupyter-widgets/base",
            "_model_module_version": "1.2.0",
            "_model_name": "LayoutModel",
            "_view_count": null,
            "_view_module": "@jupyter-widgets/base",
            "_view_module_version": "1.2.0",
            "_view_name": "LayoutView",
            "align_content": null,
            "align_items": null,
            "align_self": null,
            "border": null,
            "bottom": null,
            "display": null,
            "flex": null,
            "flex_flow": null,
            "grid_area": null,
            "grid_auto_columns": null,
            "grid_auto_flow": null,
            "grid_auto_rows": null,
            "grid_column": null,
            "grid_gap": null,
            "grid_row": null,
            "grid_template_areas": null,
            "grid_template_columns": null,
            "grid_template_rows": null,
            "height": null,
            "justify_content": null,
            "justify_items": null,
            "left": null,
            "margin": null,
            "max_height": null,
            "max_width": null,
            "min_height": null,
            "min_width": null,
            "object_fit": null,
            "object_position": null,
            "order": null,
            "overflow": null,
            "overflow_x": null,
            "overflow_y": null,
            "padding": null,
            "right": null,
            "top": null,
            "visibility": null,
            "width": null
          }
        },
        "76f66c7c5f7e479b9f565d3f425c2b89": {
          "model_module": "@jupyter-widgets/controls",
          "model_name": "DescriptionStyleModel",
          "model_module_version": "1.5.0",
          "state": {
            "_model_module": "@jupyter-widgets/controls",
            "_model_module_version": "1.5.0",
            "_model_name": "DescriptionStyleModel",
            "_view_count": null,
            "_view_module": "@jupyter-widgets/base",
            "_view_module_version": "1.2.0",
            "_view_name": "StyleView",
            "description_width": ""
          }
        },
        "d37315127b2c4166ac2a4e22ebf16b87": {
          "model_module": "@jupyter-widgets/base",
          "model_name": "LayoutModel",
          "model_module_version": "1.2.0",
          "state": {
            "_model_module": "@jupyter-widgets/base",
            "_model_module_version": "1.2.0",
            "_model_name": "LayoutModel",
            "_view_count": null,
            "_view_module": "@jupyter-widgets/base",
            "_view_module_version": "1.2.0",
            "_view_name": "LayoutView",
            "align_content": null,
            "align_items": null,
            "align_self": null,
            "border": null,
            "bottom": null,
            "display": null,
            "flex": null,
            "flex_flow": null,
            "grid_area": null,
            "grid_auto_columns": null,
            "grid_auto_flow": null,
            "grid_auto_rows": null,
            "grid_column": null,
            "grid_gap": null,
            "grid_row": null,
            "grid_template_areas": null,
            "grid_template_columns": null,
            "grid_template_rows": null,
            "height": null,
            "justify_content": null,
            "justify_items": null,
            "left": null,
            "margin": null,
            "max_height": null,
            "max_width": null,
            "min_height": null,
            "min_width": null,
            "object_fit": null,
            "object_position": null,
            "order": null,
            "overflow": null,
            "overflow_x": null,
            "overflow_y": null,
            "padding": null,
            "right": null,
            "top": null,
            "visibility": null,
            "width": null
          }
        },
        "1ba186a8fa624a9782c932c2223cfbca": {
          "model_module": "@jupyter-widgets/controls",
          "model_name": "ProgressStyleModel",
          "model_module_version": "1.5.0",
          "state": {
            "_model_module": "@jupyter-widgets/controls",
            "_model_module_version": "1.5.0",
            "_model_name": "ProgressStyleModel",
            "_view_count": null,
            "_view_module": "@jupyter-widgets/base",
            "_view_module_version": "1.2.0",
            "_view_name": "StyleView",
            "bar_color": null,
            "description_width": ""
          }
        },
        "db3b9d9877f94b6b951aa446a8ecbb63": {
          "model_module": "@jupyter-widgets/base",
          "model_name": "LayoutModel",
          "model_module_version": "1.2.0",
          "state": {
            "_model_module": "@jupyter-widgets/base",
            "_model_module_version": "1.2.0",
            "_model_name": "LayoutModel",
            "_view_count": null,
            "_view_module": "@jupyter-widgets/base",
            "_view_module_version": "1.2.0",
            "_view_name": "LayoutView",
            "align_content": null,
            "align_items": null,
            "align_self": null,
            "border": null,
            "bottom": null,
            "display": null,
            "flex": null,
            "flex_flow": null,
            "grid_area": null,
            "grid_auto_columns": null,
            "grid_auto_flow": null,
            "grid_auto_rows": null,
            "grid_column": null,
            "grid_gap": null,
            "grid_row": null,
            "grid_template_areas": null,
            "grid_template_columns": null,
            "grid_template_rows": null,
            "height": null,
            "justify_content": null,
            "justify_items": null,
            "left": null,
            "margin": null,
            "max_height": null,
            "max_width": null,
            "min_height": null,
            "min_width": null,
            "object_fit": null,
            "object_position": null,
            "order": null,
            "overflow": null,
            "overflow_x": null,
            "overflow_y": null,
            "padding": null,
            "right": null,
            "top": null,
            "visibility": null,
            "width": null
          }
        },
        "00d21624bb384947837f17acd4dc4c42": {
          "model_module": "@jupyter-widgets/controls",
          "model_name": "DescriptionStyleModel",
          "model_module_version": "1.5.0",
          "state": {
            "_model_module": "@jupyter-widgets/controls",
            "_model_module_version": "1.5.0",
            "_model_name": "DescriptionStyleModel",
            "_view_count": null,
            "_view_module": "@jupyter-widgets/base",
            "_view_module_version": "1.2.0",
            "_view_name": "StyleView",
            "description_width": ""
          }
        }
      }
    }
  },
  "cells": [
    {
      "cell_type": "markdown",
      "metadata": {
        "id": "view-in-github",
        "colab_type": "text"
      },
      "source": [
        "<a href=\"https://colab.research.google.com/github/Izzatullokh24/AI-application-system/blob/main/week%207_1_2%2C7_1_3%2C7_1_4%2C7_1_5.ipynb\" target=\"_parent\"><img src=\"https://colab.research.google.com/assets/colab-badge.svg\" alt=\"Open In Colab\"/></a>"
      ]
    },
    {
      "cell_type": "code",
      "execution_count": 1,
      "metadata": {
        "colab": {
          "base_uri": "https://localhost:8080/"
        },
        "id": "1Q6raY-U6Pv0",
        "outputId": "b2804eda-9d60-4150-8d46-a591ae0a5b13"
      },
      "outputs": [
        {
          "output_type": "stream",
          "name": "stdout",
          "text": [
            "Looking in indexes: https://pypi.org/simple, https://us-python.pkg.dev/colab-wheels/public/simple/\n",
            "Requirement already satisfied: requests in /usr/local/lib/python3.7/dist-packages (2.23.0)\n",
            "Requirement already satisfied: certifi>=2017.4.17 in /usr/local/lib/python3.7/dist-packages (from requests) (2022.9.24)\n",
            "Requirement already satisfied: chardet<4,>=3.0.2 in /usr/local/lib/python3.7/dist-packages (from requests) (3.0.4)\n",
            "Requirement already satisfied: urllib3!=1.25.0,!=1.25.1,<1.26,>=1.21.1 in /usr/local/lib/python3.7/dist-packages (from requests) (1.24.3)\n",
            "Requirement already satisfied: idna<3,>=2.5 in /usr/local/lib/python3.7/dist-packages (from requests) (2.10)\n"
          ]
        }
      ],
      "source": [
        "!pip install requests"
      ]
    },
    {
      "cell_type": "code",
      "source": [
        "import requests\n",
        "url = \"https://raw.githubusercontent.com/NVDLI/LDL/main/pt_framework/utilities.py\" \n",
        "r=requests.get(url) \n",
        "with open('utilities.py', 'w') as f: \n",
        "  f.write(r.text)"
      ],
      "metadata": {
        "id": "DqfZfBOM657S"
      },
      "execution_count": 2,
      "outputs": []
    },
    {
      "cell_type": "code",
      "source": [
        "import torch\n",
        "import torch.nn as nn\n",
        "import torchvision\n",
        "import torchvision. transforms as transforms\n",
        "from torchvision.datasets import CIFAR10 \n",
        "from torch.utils.data import DataLoader\n",
        "import numpy as np\n",
        "from utilities import train_model\n",
        "\n",
        "device = torch.device(\"cuda:0\" if torch.cuda.is_available() else \"cpu\")\n",
        "\n",
        "EPOCHS = 30\n",
        "\n",
        "BATCH_SIZE=32\n",
        "\n",
        "\n",
        "\n",
        "transform = transforms.Compose([transforms. ToTensor()]) \n",
        "trainset=CIFAR10(root=\"./pt_data\", train=True, download=True, transform=transform) \n",
        "trainloader=DataLoader(trainset, batch_size=len(trainset), shuffle=False) \n",
        "data=next(iter (trainloader))\n",
        "\n",
        "mean = data[0].mean()\n",
        "\n",
        "stddev = data[0].std()"
      ],
      "metadata": {
        "colab": {
          "base_uri": "https://localhost:8080/",
          "height": 86,
          "referenced_widgets": [
            "c8cf6fb1b8d2496a8c16c6e0569285d9",
            "13de27043eb04f499614ae5ea9b61c12",
            "8e8e560b0c694dc39fc9319c72e3bdd6",
            "3e88946413d6495394fa88b492dd206a",
            "a43dd2850aef4b038f6ef845b0336024",
            "78bddb985517467a8abda73d0ae816c1",
            "76f66c7c5f7e479b9f565d3f425c2b89",
            "d37315127b2c4166ac2a4e22ebf16b87",
            "1ba186a8fa624a9782c932c2223cfbca",
            "db3b9d9877f94b6b951aa446a8ecbb63",
            "00d21624bb384947837f17acd4dc4c42"
          ]
        },
        "id": "eo5TN9kP7x0S",
        "outputId": "7d89b5dd-a8cf-4143-ca3d-8b5647b4b279"
      },
      "execution_count": 3,
      "outputs": [
        {
          "output_type": "stream",
          "name": "stdout",
          "text": [
            "Downloading https://www.cs.toronto.edu/~kriz/cifar-10-python.tar.gz to ./pt_data/cifar-10-python.tar.gz\n"
          ]
        },
        {
          "output_type": "display_data",
          "data": {
            "text/plain": [
              "  0%|          | 0/170498071 [00:00<?, ?it/s]"
            ],
            "application/vnd.jupyter.widget-view+json": {
              "version_major": 2,
              "version_minor": 0,
              "model_id": "c8cf6fb1b8d2496a8c16c6e0569285d9"
            }
          },
          "metadata": {}
        },
        {
          "output_type": "stream",
          "name": "stdout",
          "text": [
            "Extracting ./pt_data/cifar-10-python.tar.gz to ./pt_data\n"
          ]
        }
      ]
    },
    {
      "cell_type": "code",
      "source": [
        "transform=transforms.Compose( \n",
        "    [transforms.ToTensor(),\n",
        "     transforms.Normalize(mean,stddev)])\n",
        "\n",
        "trainset = CIFAR10(root='./pt_data', train=True, download=True,transform=transform) \n",
        "testset = CIFAR10(root='./pt_data', train=False, download=True,transform=transform)\n",
        "\n",
        "\n",
        "model = nn. Sequential(\n",
        "    nn.Conv2d(3, 64, 5, stride=2, padding=2),\n",
        "    nn.ReLU(),\n",
        "    nn. Conv2d(64, 64, 3, stride=2, padding=1),\n",
        "    nn.ReLU(),\n",
        "    nn.Flatten(),\n",
        "    nn.Linear (64*8*8, 10)\n",
        ")"
      ],
      "metadata": {
        "colab": {
          "base_uri": "https://localhost:8080/"
        },
        "id": "mYCPtdrJ9E_4",
        "outputId": "7822a22a-5eb5-42ff-d37c-674d53f5713e"
      },
      "execution_count": 4,
      "outputs": [
        {
          "output_type": "stream",
          "name": "stdout",
          "text": [
            "Files already downloaded and verified\n",
            "Files already downloaded and verified\n"
          ]
        }
      ]
    },
    {
      "cell_type": "code",
      "source": [
        "layers = next (model.modules())\n",
        "conv_layer0=layers[0]\n",
        "\n",
        "conv_layer1=layers[2]\n",
        "\n",
        "output_layer=layers[5]\n",
        "\n",
        "\n",
        "nn.init.kaiming_normal_(conv_layer0.weight)\n",
        "\n",
        "nn.init.constant(conv_layer0.bias,0.0)\n",
        "\n",
        "nn.init.kaiming_normal_(conv_layer1.weight)\n",
        "\n",
        "nn.init.constant (conv_layer1.bias, 0.0)\n",
        "\n",
        "nn. init.xavier_uniform (output_layer.weight)\n",
        "\n",
        "nn.init.constant (output_layer.bias, 0.0)\n",
        "\n",
        "optimizer = torch.optim.Adam(model.parameters()) \n",
        "loss_function = nn.CrossEntropyLoss()\n",
        "\n",
        "train_model(model, device, EPOCHS, BATCH_SIZE, trainset, testset, optimizer, loss_function, 'acc')\n"
      ],
      "metadata": {
        "colab": {
          "base_uri": "https://localhost:8080/"
        },
        "id": "7A4EkPPZ-leD",
        "outputId": "bd11ecac-8502-46fd-85ba-1045bada6389"
      },
      "execution_count": 5,
      "outputs": [
        {
          "output_type": "stream",
          "name": "stderr",
          "text": [
            "/usr/local/lib/python3.7/dist-packages/ipykernel_launcher.py:11: UserWarning: nn.init.constant is now deprecated in favor of nn.init.constant_.\n",
            "  # This is added back by InteractiveShellApp.init_path()\n",
            "/usr/local/lib/python3.7/dist-packages/ipykernel_launcher.py:15: UserWarning: nn.init.constant is now deprecated in favor of nn.init.constant_.\n",
            "  from ipykernel import kernelapp as app\n",
            "/usr/local/lib/python3.7/dist-packages/ipykernel_launcher.py:17: UserWarning: nn.init.xavier_uniform is now deprecated in favor of nn.init.xavier_uniform_.\n",
            "/usr/local/lib/python3.7/dist-packages/ipykernel_launcher.py:19: UserWarning: nn.init.constant is now deprecated in favor of nn.init.constant_.\n"
          ]
        },
        {
          "output_type": "stream",
          "name": "stdout",
          "text": [
            "Epoch 1/30 loss: 1.3942 - acc: 0.5108 - val_loss: 1.1937 - val_acc: 0.5746\n",
            "Epoch 2/30 loss: 1.0488 - acc: 0.6352 - val_loss: 1.0708 - val_acc: 0.6225\n",
            "Epoch 3/30 loss: 0.9114 - acc: 0.6835 - val_loss: 1.0414 - val_acc: 0.6446\n",
            "Epoch 4/30 loss: 0.8137 - acc: 0.7176 - val_loss: 1.0709 - val_acc: 0.6377\n",
            "Epoch 5/30 loss: 0.7350 - acc: 0.7436 - val_loss: 1.0985 - val_acc: 0.6295\n",
            "Epoch 6/30 loss: 0.6626 - acc: 0.7689 - val_loss: 1.1187 - val_acc: 0.6441\n",
            "Epoch 7/30 loss: 0.6031 - acc: 0.7886 - val_loss: 1.1824 - val_acc: 0.6337\n",
            "Epoch 8/30 loss: 0.5505 - acc: 0.8064 - val_loss: 1.2330 - val_acc: 0.6343\n",
            "Epoch 9/30 loss: 0.5026 - acc: 0.8238 - val_loss: 1.3280 - val_acc: 0.6185\n",
            "Epoch 10/30 loss: 0.4595 - acc: 0.8383 - val_loss: 1.3350 - val_acc: 0.6328\n",
            "Epoch 11/30 loss: 0.4283 - acc: 0.8495 - val_loss: 1.4563 - val_acc: 0.6333\n",
            "Epoch 12/30 loss: 0.3893 - acc: 0.8655 - val_loss: 1.5684 - val_acc: 0.6188\n",
            "Epoch 13/30 loss: 0.3641 - acc: 0.8710 - val_loss: 1.6784 - val_acc: 0.6250\n",
            "Epoch 14/30 loss: 0.3341 - acc: 0.8798 - val_loss: 1.7193 - val_acc: 0.6264\n",
            "Epoch 15/30 loss: 0.3147 - acc: 0.8878 - val_loss: 1.7787 - val_acc: 0.6211\n",
            "Epoch 16/30 loss: 0.2937 - acc: 0.8939 - val_loss: 1.9123 - val_acc: 0.6214\n",
            "Epoch 17/30 loss: 0.2724 - acc: 0.9013 - val_loss: 2.0368 - val_acc: 0.6074\n",
            "Epoch 18/30 loss: 0.2575 - acc: 0.9061 - val_loss: 2.1934 - val_acc: 0.6123\n",
            "Epoch 19/30 loss: 0.2404 - acc: 0.9131 - val_loss: 2.2555 - val_acc: 0.6182\n",
            "Epoch 20/30 loss: 0.2305 - acc: 0.9168 - val_loss: 2.2900 - val_acc: 0.6160\n",
            "Epoch 21/30 loss: 0.2174 - acc: 0.9210 - val_loss: 2.4711 - val_acc: 0.6130\n",
            "Epoch 22/30 loss: 0.2126 - acc: 0.9237 - val_loss: 2.4845 - val_acc: 0.6186\n",
            "Epoch 23/30 loss: 0.1981 - acc: 0.9277 - val_loss: 2.6317 - val_acc: 0.6151\n",
            "Epoch 24/30 loss: 0.1901 - acc: 0.9310 - val_loss: 2.7823 - val_acc: 0.6144\n",
            "Epoch 25/30 loss: 0.1876 - acc: 0.9316 - val_loss: 2.8175 - val_acc: 0.6120\n",
            "Epoch 26/30 loss: 0.1790 - acc: 0.9357 - val_loss: 2.9946 - val_acc: 0.6052\n",
            "Epoch 27/30 loss: 0.1672 - acc: 0.9397 - val_loss: 3.1452 - val_acc: 0.6144\n",
            "Epoch 28/30 loss: 0.1705 - acc: 0.9403 - val_loss: 3.2106 - val_acc: 0.6113\n",
            "Epoch 29/30 loss: 0.1630 - acc: 0.9423 - val_loss: 3.2921 - val_acc: 0.6142\n",
            "Epoch 30/30 loss: 0.1615 - acc: 0.9436 - val_loss: 3.3317 - val_acc: 0.6051\n"
          ]
        },
        {
          "output_type": "execute_result",
          "data": {
            "text/plain": [
              "[0.9436180422264875, 0.6051317891373802]"
            ]
          },
          "metadata": {},
          "execution_count": 5
        }
      ]
    },
    {
      "cell_type": "code",
      "source": [],
      "metadata": {
        "id": "W125r4xP-Joj"
      },
      "execution_count": null,
      "outputs": []
    }
  ]
}